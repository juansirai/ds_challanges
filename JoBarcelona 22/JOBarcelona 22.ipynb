{
 "cells": [
  {
   "cell_type": "markdown",
   "metadata": {},
   "source": [
    "<h1>JOBarcelona ’22 | Data Science</h1>\n",
    "\n",
    "<h3> Juan Sirai </h3>\n",
    "\n",
    "<img src=\"img/banner.gif\"  width=800>\n",
    "\n",
    "Este es uno de los retos clasificatorios que forman parte del hackathon online de JOBarcelona ’22. El resultado de este reto va a permitir a los ganadores asistir al hackathon presencial que se realizará el día 31 de mayo de 2022 en el Camp Nou\n",
    "\n",
    "----------------------------------------------------------------------------------------\n",
    "\n",
    "<h2>Background</h2>\n",
    "\n",
    "Los insectos nocturnos representan uno de los grupos más diversos de organismos, por lo que es de suma importancia estudiarlos.\n",
    "\n",
    "Es por ello que un grupo de prestigiosos entomólogos han construido un ecosistema aislado con múltiples especies para poder estudiarlos en mayor detalle. Para este estudio están diseñando un sistema de sensores para poder trackear de forma automática las dinámicas y hábitos de estos insectos.\n",
    "\n",
    "<h2>Overview: the dataset and challenge</h2>\n",
    "\n",
    "Se emplearán dos datasets:\n",
    "\n",
    "`Training`\n",
    "El primero contiene datos de las mediciones de los sensores, el tiempo de las mediciones y el tipo de insecto identificado.\n",
    "\n",
    "El dataset de clientes 'train.csv' contiene las siguientes variables:\n",
    "* Hour: Hora a la que se ha hecho la medición.\n",
    "* Minutes: Minutos en los que se ha realizado la medición.\n",
    "* Sensor_alpha: Posición del insecto al sensor alpha.\n",
    "* Sensor_beta: Posición del insecto al sensor beta.\n",
    "* Sensor_gamma: Posición del insecto al sensor gamma.\n",
    "* Sensor_alpha_plus: Posición del insecto al sensor alpha+.\n",
    "* Sensor_beta_plus: Posición del insecto al sensor beta+.\n",
    "* Sensor_gamma_plus: Posición del insecto al sensor gamma+.\n",
    "* Insect: Categoría de insecto.\n",
    "    * 0 -> Lepidoptero\n",
    "    * 1 -> Himenoptera\n",
    "    * 2 -> Diptera\n",
    "    \n",
    "<h2>¿Qué se debe entregar?</h2>\n",
    "\n",
    "Tienes que entregar el link de tu repositorio de Github/Gitlab.\n",
    "\n",
    "Este tiene que tener:\n",
    "* El código con el que has realizado el EDA y el modelo predictivo.\n",
    "* Un archivo 'results.csv' con las predicciones de tu algoritmo al meterle como input el dataset test_x. Este archivo con los resultados ha de tener una columna con el índice y otra con las predicciones del 'Insect'.\n",
    "\n",
    "-------------------------------------------------------------------"
   ]
  },
  {
   "cell_type": "markdown",
   "metadata": {},
   "source": [
    "## 🚀 Librerias Necesarias"
   ]
  },
  {
   "cell_type": "code",
   "execution_count": 1,
   "metadata": {},
   "outputs": [],
   "source": [
    "import pandas as pd\n",
    "import numpy as np\n",
    "import seaborn as sns\n",
    "import matplotlib.pyplot as plt\n",
    "from sklearn.preprocessing import StandardScaler\n",
    "from sklearn.model_selection import train_test_split\n",
    "from sklearn.ensemble import RandomForestClassifier\n",
    "from sklearn.metrics import classification_report\n",
    "from sklearn.linear_model import SGDClassifier\n",
    "from sklearn.svm import SVC\n",
    "from sklearn.ensemble import GradientBoostingClassifier\n",
    "from sklearn.model_selection import GridSearchCV"
   ]
  },
  {
   "cell_type": "markdown",
   "metadata": {},
   "source": [
    "## 🚀 Analisis Preliminar"
   ]
  },
  {
   "cell_type": "code",
   "execution_count": 2,
   "metadata": {},
   "outputs": [
    {
     "data": {
      "text/html": [
       "<div>\n",
       "<style scoped>\n",
       "    .dataframe tbody tr th:only-of-type {\n",
       "        vertical-align: middle;\n",
       "    }\n",
       "\n",
       "    .dataframe tbody tr th {\n",
       "        vertical-align: top;\n",
       "    }\n",
       "\n",
       "    .dataframe thead th {\n",
       "        text-align: right;\n",
       "    }\n",
       "</style>\n",
       "<table border=\"1\" class=\"dataframe\">\n",
       "  <thead>\n",
       "    <tr style=\"text-align: right;\">\n",
       "      <th></th>\n",
       "      <th>Unnamed: 0</th>\n",
       "      <th>Hour</th>\n",
       "      <th>Minutes</th>\n",
       "      <th>Sensor_alpha</th>\n",
       "      <th>Sensor_beta</th>\n",
       "      <th>Sensor_gamma</th>\n",
       "      <th>Sensor_alpha_plus</th>\n",
       "      <th>Sensor_beta_plus</th>\n",
       "      <th>Sensor_gamma_plus</th>\n",
       "      <th>Insect</th>\n",
       "    </tr>\n",
       "  </thead>\n",
       "  <tbody>\n",
       "    <tr>\n",
       "      <th>0</th>\n",
       "      <td>0</td>\n",
       "      <td>22</td>\n",
       "      <td>26</td>\n",
       "      <td>119.910995</td>\n",
       "      <td>242.838324</td>\n",
       "      <td>-316.819222</td>\n",
       "      <td>250.195048</td>\n",
       "      <td>-53.547777</td>\n",
       "      <td>-112.049983</td>\n",
       "      <td>2</td>\n",
       "    </tr>\n",
       "    <tr>\n",
       "      <th>1</th>\n",
       "      <td>1</td>\n",
       "      <td>10</td>\n",
       "      <td>16</td>\n",
       "      <td>-90.790536</td>\n",
       "      <td>-269.470767</td>\n",
       "      <td>-182.581844</td>\n",
       "      <td>95.394941</td>\n",
       "      <td>37.291944</td>\n",
       "      <td>48.525180</td>\n",
       "      <td>0</td>\n",
       "    </tr>\n",
       "    <tr>\n",
       "      <th>2</th>\n",
       "      <td>2</td>\n",
       "      <td>21</td>\n",
       "      <td>42</td>\n",
       "      <td>-20.028003</td>\n",
       "      <td>-147.070212</td>\n",
       "      <td>50.280872</td>\n",
       "      <td>-90.750386</td>\n",
       "      <td>-50.476556</td>\n",
       "      <td>85.399009</td>\n",
       "      <td>1</td>\n",
       "    </tr>\n",
       "    <tr>\n",
       "      <th>3</th>\n",
       "      <td>3</td>\n",
       "      <td>21</td>\n",
       "      <td>17</td>\n",
       "      <td>-21.258567</td>\n",
       "      <td>0.467070</td>\n",
       "      <td>-86.164153</td>\n",
       "      <td>-21.813529</td>\n",
       "      <td>-209.256006</td>\n",
       "      <td>16.291882</td>\n",
       "      <td>0</td>\n",
       "    </tr>\n",
       "    <tr>\n",
       "      <th>4</th>\n",
       "      <td>4</td>\n",
       "      <td>18</td>\n",
       "      <td>16</td>\n",
       "      <td>-58.154501</td>\n",
       "      <td>-13.051195</td>\n",
       "      <td>-156.501167</td>\n",
       "      <td>48.392938</td>\n",
       "      <td>-110.008860</td>\n",
       "      <td>-10.285138</td>\n",
       "      <td>2</td>\n",
       "    </tr>\n",
       "    <tr>\n",
       "      <th>5</th>\n",
       "      <td>5</td>\n",
       "      <td>21</td>\n",
       "      <td>23</td>\n",
       "      <td>-46.761031</td>\n",
       "      <td>237.863074</td>\n",
       "      <td>208.008700</td>\n",
       "      <td>-125.729185</td>\n",
       "      <td>-33.298749</td>\n",
       "      <td>-1.362840</td>\n",
       "      <td>1</td>\n",
       "    </tr>\n",
       "    <tr>\n",
       "      <th>6</th>\n",
       "      <td>6</td>\n",
       "      <td>21</td>\n",
       "      <td>10</td>\n",
       "      <td>108.268101</td>\n",
       "      <td>-26.196569</td>\n",
       "      <td>-96.568491</td>\n",
       "      <td>117.432706</td>\n",
       "      <td>-96.707760</td>\n",
       "      <td>70.639947</td>\n",
       "      <td>0</td>\n",
       "    </tr>\n",
       "    <tr>\n",
       "      <th>7</th>\n",
       "      <td>7</td>\n",
       "      <td>7</td>\n",
       "      <td>34</td>\n",
       "      <td>-103.673329</td>\n",
       "      <td>-234.696711</td>\n",
       "      <td>-103.499400</td>\n",
       "      <td>98.081187</td>\n",
       "      <td>-28.156253</td>\n",
       "      <td>45.068583</td>\n",
       "      <td>0</td>\n",
       "    </tr>\n",
       "    <tr>\n",
       "      <th>8</th>\n",
       "      <td>8</td>\n",
       "      <td>20</td>\n",
       "      <td>12</td>\n",
       "      <td>-146.492155</td>\n",
       "      <td>12.444229</td>\n",
       "      <td>-42.473037</td>\n",
       "      <td>60.356941</td>\n",
       "      <td>-73.822742</td>\n",
       "      <td>-31.022915</td>\n",
       "      <td>0</td>\n",
       "    </tr>\n",
       "    <tr>\n",
       "      <th>9</th>\n",
       "      <td>9</td>\n",
       "      <td>21</td>\n",
       "      <td>1</td>\n",
       "      <td>-60.924066</td>\n",
       "      <td>-66.598591</td>\n",
       "      <td>-63.173520</td>\n",
       "      <td>-104.830957</td>\n",
       "      <td>123.155306</td>\n",
       "      <td>158.866955</td>\n",
       "      <td>1</td>\n",
       "    </tr>\n",
       "  </tbody>\n",
       "</table>\n",
       "</div>"
      ],
      "text/plain": [
       "   Unnamed: 0  Hour  Minutes  Sensor_alpha  Sensor_beta  Sensor_gamma  \\\n",
       "0           0    22       26    119.910995   242.838324   -316.819222   \n",
       "1           1    10       16    -90.790536  -269.470767   -182.581844   \n",
       "2           2    21       42    -20.028003  -147.070212     50.280872   \n",
       "3           3    21       17    -21.258567     0.467070    -86.164153   \n",
       "4           4    18       16    -58.154501   -13.051195   -156.501167   \n",
       "5           5    21       23    -46.761031   237.863074    208.008700   \n",
       "6           6    21       10    108.268101   -26.196569    -96.568491   \n",
       "7           7     7       34   -103.673329  -234.696711   -103.499400   \n",
       "8           8    20       12   -146.492155    12.444229    -42.473037   \n",
       "9           9    21        1    -60.924066   -66.598591    -63.173520   \n",
       "\n",
       "   Sensor_alpha_plus  Sensor_beta_plus  Sensor_gamma_plus  Insect  \n",
       "0         250.195048        -53.547777        -112.049983       2  \n",
       "1          95.394941         37.291944          48.525180       0  \n",
       "2         -90.750386        -50.476556          85.399009       1  \n",
       "3         -21.813529       -209.256006          16.291882       0  \n",
       "4          48.392938       -110.008860         -10.285138       2  \n",
       "5        -125.729185        -33.298749          -1.362840       1  \n",
       "6         117.432706        -96.707760          70.639947       0  \n",
       "7          98.081187        -28.156253          45.068583       0  \n",
       "8          60.356941        -73.822742         -31.022915       0  \n",
       "9        -104.830957        123.155306         158.866955       1  "
      ]
     },
     "execution_count": 2,
     "metadata": {},
     "output_type": "execute_result"
    }
   ],
   "source": [
    "data = pd.read_csv('data/train.csv')\n",
    "data.head(10)"
   ]
  },
  {
   "cell_type": "code",
   "execution_count": 3,
   "metadata": {},
   "outputs": [
    {
     "name": "stdout",
     "output_type": "stream",
     "text": [
      "Proporcion de valores nulos: \n"
     ]
    },
    {
     "data": {
      "text/plain": [
       "Unnamed: 0           0.0\n",
       "Hour                 0.0\n",
       "Minutes              0.0\n",
       "Sensor_alpha         0.0\n",
       "Sensor_beta          0.0\n",
       "Sensor_gamma         0.0\n",
       "Sensor_alpha_plus    0.0\n",
       "Sensor_beta_plus     0.0\n",
       "Sensor_gamma_plus    0.0\n",
       "Insect               0.0\n",
       "dtype: float64"
      ]
     },
     "execution_count": 3,
     "metadata": {},
     "output_type": "execute_result"
    }
   ],
   "source": [
    "print(\"Proporcion de valores nulos: \")\n",
    "data.isnull().sum() / data.shape[0]"
   ]
  },
  {
   "cell_type": "code",
   "execution_count": 4,
   "metadata": {},
   "outputs": [
    {
     "name": "stdout",
     "output_type": "stream",
     "text": [
      "Medidas estadisticas de variables cuantitativas\n"
     ]
    },
    {
     "data": {
      "text/html": [
       "<div>\n",
       "<style scoped>\n",
       "    .dataframe tbody tr th:only-of-type {\n",
       "        vertical-align: middle;\n",
       "    }\n",
       "\n",
       "    .dataframe tbody tr th {\n",
       "        vertical-align: top;\n",
       "    }\n",
       "\n",
       "    .dataframe thead th {\n",
       "        text-align: right;\n",
       "    }\n",
       "</style>\n",
       "<table border=\"1\" class=\"dataframe\">\n",
       "  <thead>\n",
       "    <tr style=\"text-align: right;\">\n",
       "      <th></th>\n",
       "      <th>count</th>\n",
       "      <th>mean</th>\n",
       "      <th>std</th>\n",
       "      <th>min</th>\n",
       "      <th>25%</th>\n",
       "      <th>50%</th>\n",
       "      <th>75%</th>\n",
       "      <th>max</th>\n",
       "    </tr>\n",
       "  </thead>\n",
       "  <tbody>\n",
       "    <tr>\n",
       "      <th>Unnamed: 0</th>\n",
       "      <td>7001.0</td>\n",
       "      <td>3500.0</td>\n",
       "      <td>2021.0</td>\n",
       "      <td>0.0</td>\n",
       "      <td>1750.0</td>\n",
       "      <td>3500.0</td>\n",
       "      <td>5250.0</td>\n",
       "      <td>7000.0</td>\n",
       "    </tr>\n",
       "    <tr>\n",
       "      <th>Hour</th>\n",
       "      <td>7001.0</td>\n",
       "      <td>20.0</td>\n",
       "      <td>4.0</td>\n",
       "      <td>1.0</td>\n",
       "      <td>19.0</td>\n",
       "      <td>21.0</td>\n",
       "      <td>21.0</td>\n",
       "      <td>23.0</td>\n",
       "    </tr>\n",
       "    <tr>\n",
       "      <th>Minutes</th>\n",
       "      <td>7001.0</td>\n",
       "      <td>29.0</td>\n",
       "      <td>17.0</td>\n",
       "      <td>0.0</td>\n",
       "      <td>14.0</td>\n",
       "      <td>29.0</td>\n",
       "      <td>44.0</td>\n",
       "      <td>59.0</td>\n",
       "    </tr>\n",
       "    <tr>\n",
       "      <th>Sensor_alpha</th>\n",
       "      <td>7001.0</td>\n",
       "      <td>0.0</td>\n",
       "      <td>99.0</td>\n",
       "      <td>-405.0</td>\n",
       "      <td>-69.0</td>\n",
       "      <td>-0.0</td>\n",
       "      <td>66.0</td>\n",
       "      <td>351.0</td>\n",
       "    </tr>\n",
       "    <tr>\n",
       "      <th>Sensor_beta</th>\n",
       "      <td>7001.0</td>\n",
       "      <td>-30.0</td>\n",
       "      <td>133.0</td>\n",
       "      <td>-656.0</td>\n",
       "      <td>-116.0</td>\n",
       "      <td>-36.0</td>\n",
       "      <td>57.0</td>\n",
       "      <td>518.0</td>\n",
       "    </tr>\n",
       "    <tr>\n",
       "      <th>Sensor_gamma</th>\n",
       "      <td>7001.0</td>\n",
       "      <td>-6.0</td>\n",
       "      <td>116.0</td>\n",
       "      <td>-448.0</td>\n",
       "      <td>-84.0</td>\n",
       "      <td>-1.0</td>\n",
       "      <td>77.0</td>\n",
       "      <td>378.0</td>\n",
       "    </tr>\n",
       "    <tr>\n",
       "      <th>Sensor_alpha_plus</th>\n",
       "      <td>7001.0</td>\n",
       "      <td>7.0</td>\n",
       "      <td>122.0</td>\n",
       "      <td>-437.0</td>\n",
       "      <td>-79.0</td>\n",
       "      <td>-1.0</td>\n",
       "      <td>93.0</td>\n",
       "      <td>463.0</td>\n",
       "    </tr>\n",
       "    <tr>\n",
       "      <th>Sensor_beta_plus</th>\n",
       "      <td>7001.0</td>\n",
       "      <td>-1.0</td>\n",
       "      <td>100.0</td>\n",
       "      <td>-388.0</td>\n",
       "      <td>-68.0</td>\n",
       "      <td>-0.0</td>\n",
       "      <td>66.0</td>\n",
       "      <td>345.0</td>\n",
       "    </tr>\n",
       "    <tr>\n",
       "      <th>Sensor_gamma_plus</th>\n",
       "      <td>7001.0</td>\n",
       "      <td>-1.0</td>\n",
       "      <td>101.0</td>\n",
       "      <td>-375.0</td>\n",
       "      <td>-70.0</td>\n",
       "      <td>0.0</td>\n",
       "      <td>68.0</td>\n",
       "      <td>364.0</td>\n",
       "    </tr>\n",
       "    <tr>\n",
       "      <th>Insect</th>\n",
       "      <td>7001.0</td>\n",
       "      <td>1.0</td>\n",
       "      <td>1.0</td>\n",
       "      <td>0.0</td>\n",
       "      <td>0.0</td>\n",
       "      <td>0.0</td>\n",
       "      <td>1.0</td>\n",
       "      <td>2.0</td>\n",
       "    </tr>\n",
       "  </tbody>\n",
       "</table>\n",
       "</div>"
      ],
      "text/plain": [
       "                    count    mean     std    min     25%     50%     75%  \\\n",
       "Unnamed: 0         7001.0  3500.0  2021.0    0.0  1750.0  3500.0  5250.0   \n",
       "Hour               7001.0    20.0     4.0    1.0    19.0    21.0    21.0   \n",
       "Minutes            7001.0    29.0    17.0    0.0    14.0    29.0    44.0   \n",
       "Sensor_alpha       7001.0     0.0    99.0 -405.0   -69.0    -0.0    66.0   \n",
       "Sensor_beta        7001.0   -30.0   133.0 -656.0  -116.0   -36.0    57.0   \n",
       "Sensor_gamma       7001.0    -6.0   116.0 -448.0   -84.0    -1.0    77.0   \n",
       "Sensor_alpha_plus  7001.0     7.0   122.0 -437.0   -79.0    -1.0    93.0   \n",
       "Sensor_beta_plus   7001.0    -1.0   100.0 -388.0   -68.0    -0.0    66.0   \n",
       "Sensor_gamma_plus  7001.0    -1.0   101.0 -375.0   -70.0     0.0    68.0   \n",
       "Insect             7001.0     1.0     1.0    0.0     0.0     0.0     1.0   \n",
       "\n",
       "                      max  \n",
       "Unnamed: 0         7000.0  \n",
       "Hour                 23.0  \n",
       "Minutes              59.0  \n",
       "Sensor_alpha        351.0  \n",
       "Sensor_beta         518.0  \n",
       "Sensor_gamma        378.0  \n",
       "Sensor_alpha_plus   463.0  \n",
       "Sensor_beta_plus    345.0  \n",
       "Sensor_gamma_plus   364.0  \n",
       "Insect                2.0  "
      ]
     },
     "execution_count": 4,
     "metadata": {},
     "output_type": "execute_result"
    }
   ],
   "source": [
    "print(\"Medidas estadisticas de variables cuantitativas\")\n",
    "data.describe().round(0).transpose()"
   ]
  },
  {
   "cell_type": "code",
   "execution_count": 5,
   "metadata": {},
   "outputs": [
    {
     "name": "stdout",
     "output_type": "stream",
     "text": [
      "Verificamos tipos de datos: \n"
     ]
    },
    {
     "data": {
      "text/plain": [
       "Unnamed: 0             int64\n",
       "Hour                   int64\n",
       "Minutes                int64\n",
       "Sensor_alpha         float64\n",
       "Sensor_beta          float64\n",
       "Sensor_gamma         float64\n",
       "Sensor_alpha_plus    float64\n",
       "Sensor_beta_plus     float64\n",
       "Sensor_gamma_plus    float64\n",
       "Insect                 int64\n",
       "dtype: object"
      ]
     },
     "execution_count": 5,
     "metadata": {},
     "output_type": "execute_result"
    }
   ],
   "source": [
    "print(\"Verificamos tipos de datos: \")\n",
    "data.dtypes"
   ]
  },
  {
   "cell_type": "code",
   "execution_count": 6,
   "metadata": {},
   "outputs": [
    {
     "data": {
      "image/png": "[encoded data removed]",
      "text/plain": [
       "<Figure size 1224x1080 with 6 Axes>"
      ]
     },
     "metadata": {
      "needs_background": "light"
     },
     "output_type": "display_data"
    }
   ],
   "source": [
    "fig, axis=plt.subplots(2,3,figsize=(17,15))\n",
    "columna = 0\n",
    "fila = 0\n",
    "variables = list(data.columns)[3:-1]\n",
    "plt.suptitle('Distribución de variables posicionales',fontsize=30)\n",
    "for col in variables:\n",
    "    axis[fila,columna].set_title(col, size=20)\n",
    "    box = sns.boxenplot(y = col, data = data, ax=axis[fila, columna], palette='Pastel2')\n",
    "    box.annotate(f\"Mean: {data[col].mean().round(2)}\", xy=(0,0), verticalalignment='bottom')\n",
    "    if columna == 2:\n",
    "        columna = 0\n",
    "        fila+=1\n",
    "    else:\n",
    "        columna+=1"
   ]
  },
  {
   "cell_type": "markdown",
   "metadata": {},
   "source": [
    "---------------------------------------------------------------------------"
   ]
  },
  {
   "cell_type": "markdown",
   "metadata": {},
   "source": [
    "### Variables posicionales"
   ]
  },
  {
   "cell_type": "markdown",
   "metadata": {},
   "source": [
    "Vamos a analizar en promedio que valores posicionales tiene cada uno de los insectos.\n",
    "A fin de evitar distorsiones por diferencias de escala, generaremos un nuevo dataset con los valores estandarizados de las variables posicionales"
   ]
  },
  {
   "cell_type": "code",
   "execution_count": 7,
   "metadata": {},
   "outputs": [
    {
     "data": {
      "text/html": [
       "<div>\n",
       "<style scoped>\n",
       "    .dataframe tbody tr th:only-of-type {\n",
       "        vertical-align: middle;\n",
       "    }\n",
       "\n",
       "    .dataframe tbody tr th {\n",
       "        vertical-align: top;\n",
       "    }\n",
       "\n",
       "    .dataframe thead th {\n",
       "        text-align: right;\n",
       "    }\n",
       "</style>\n",
       "<table border=\"1\" class=\"dataframe\">\n",
       "  <thead>\n",
       "    <tr style=\"text-align: right;\">\n",
       "      <th></th>\n",
       "      <th>Sensor_alpha</th>\n",
       "      <th>Sensor_beta</th>\n",
       "      <th>Sensor_gamma</th>\n",
       "      <th>Sensor_alpha_plus</th>\n",
       "      <th>Sensor_beta_plus</th>\n",
       "      <th>Sensor_gamma_plus</th>\n",
       "      <th>Insect</th>\n",
       "    </tr>\n",
       "  </thead>\n",
       "  <tbody>\n",
       "    <tr>\n",
       "      <th>0</th>\n",
       "      <td>1.202906</td>\n",
       "      <td>2.049902</td>\n",
       "      <td>-2.685881</td>\n",
       "      <td>1.986662</td>\n",
       "      <td>-0.527728</td>\n",
       "      <td>-1.109090</td>\n",
       "      <td>2</td>\n",
       "    </tr>\n",
       "    <tr>\n",
       "      <th>1</th>\n",
       "      <td>-0.919224</td>\n",
       "      <td>-1.799568</td>\n",
       "      <td>-1.527295</td>\n",
       "      <td>0.721120</td>\n",
       "      <td>0.380375</td>\n",
       "      <td>0.488216</td>\n",
       "      <td>0</td>\n",
       "    </tr>\n",
       "    <tr>\n",
       "      <th>2</th>\n",
       "      <td>-0.206523</td>\n",
       "      <td>-0.879855</td>\n",
       "      <td>0.482514</td>\n",
       "      <td>-0.800679</td>\n",
       "      <td>-0.497026</td>\n",
       "      <td>0.855014</td>\n",
       "      <td>1</td>\n",
       "    </tr>\n",
       "    <tr>\n",
       "      <th>3</th>\n",
       "      <td>-0.218917</td>\n",
       "      <td>0.228734</td>\n",
       "      <td>-0.695126</td>\n",
       "      <td>-0.237098</td>\n",
       "      <td>-2.084307</td>\n",
       "      <td>0.167578</td>\n",
       "      <td>0</td>\n",
       "    </tr>\n",
       "    <tr>\n",
       "      <th>4</th>\n",
       "      <td>-0.590523</td>\n",
       "      <td>0.127158</td>\n",
       "      <td>-1.302196</td>\n",
       "      <td>0.336863</td>\n",
       "      <td>-1.092156</td>\n",
       "      <td>-0.096794</td>\n",
       "      <td>2</td>\n",
       "    </tr>\n",
       "    <tr>\n",
       "      <th>...</th>\n",
       "      <td>...</td>\n",
       "      <td>...</td>\n",
       "      <td>...</td>\n",
       "      <td>...</td>\n",
       "      <td>...</td>\n",
       "      <td>...</td>\n",
       "      <td>...</td>\n",
       "    </tr>\n",
       "    <tr>\n",
       "      <th>6996</th>\n",
       "      <td>0.061427</td>\n",
       "      <td>2.487307</td>\n",
       "      <td>1.314547</td>\n",
       "      <td>-1.771339</td>\n",
       "      <td>-1.289767</td>\n",
       "      <td>-0.504052</td>\n",
       "      <td>1</td>\n",
       "    </tr>\n",
       "    <tr>\n",
       "      <th>6997</th>\n",
       "      <td>-0.066942</td>\n",
       "      <td>-2.161602</td>\n",
       "      <td>-1.346586</td>\n",
       "      <td>1.969172</td>\n",
       "      <td>-1.118323</td>\n",
       "      <td>0.994924</td>\n",
       "      <td>0</td>\n",
       "    </tr>\n",
       "    <tr>\n",
       "      <th>6998</th>\n",
       "      <td>-0.078226</td>\n",
       "      <td>-2.830948</td>\n",
       "      <td>-1.782039</td>\n",
       "      <td>1.974808</td>\n",
       "      <td>1.176130</td>\n",
       "      <td>0.331852</td>\n",
       "      <td>0</td>\n",
       "    </tr>\n",
       "    <tr>\n",
       "      <th>6999</th>\n",
       "      <td>-0.934599</td>\n",
       "      <td>-1.214113</td>\n",
       "      <td>0.811267</td>\n",
       "      <td>0.257854</td>\n",
       "      <td>-0.382802</td>\n",
       "      <td>0.208013</td>\n",
       "      <td>0</td>\n",
       "    </tr>\n",
       "    <tr>\n",
       "      <th>7000</th>\n",
       "      <td>-0.730813</td>\n",
       "      <td>0.139302</td>\n",
       "      <td>-0.408560</td>\n",
       "      <td>-0.653082</td>\n",
       "      <td>1.460099</td>\n",
       "      <td>-1.425480</td>\n",
       "      <td>1</td>\n",
       "    </tr>\n",
       "  </tbody>\n",
       "</table>\n",
       "<p>7001 rows × 7 columns</p>\n",
       "</div>"
      ],
      "text/plain": [
       "      Sensor_alpha  Sensor_beta  Sensor_gamma  Sensor_alpha_plus  \\\n",
       "0         1.202906     2.049902     -2.685881           1.986662   \n",
       "1        -0.919224    -1.799568     -1.527295           0.721120   \n",
       "2        -0.206523    -0.879855      0.482514          -0.800679   \n",
       "3        -0.218917     0.228734     -0.695126          -0.237098   \n",
       "4        -0.590523     0.127158     -1.302196           0.336863   \n",
       "...            ...          ...           ...                ...   \n",
       "6996      0.061427     2.487307      1.314547          -1.771339   \n",
       "6997     -0.066942    -2.161602     -1.346586           1.969172   \n",
       "6998     -0.078226    -2.830948     -1.782039           1.974808   \n",
       "6999     -0.934599    -1.214113      0.811267           0.257854   \n",
       "7000     -0.730813     0.139302     -0.408560          -0.653082   \n",
       "\n",
       "      Sensor_beta_plus  Sensor_gamma_plus  Insect  \n",
       "0            -0.527728          -1.109090       2  \n",
       "1             0.380375           0.488216       0  \n",
       "2            -0.497026           0.855014       1  \n",
       "3            -2.084307           0.167578       0  \n",
       "4            -1.092156          -0.096794       2  \n",
       "...                ...                ...     ...  \n",
       "6996         -1.289767          -0.504052       1  \n",
       "6997         -1.118323           0.994924       0  \n",
       "6998          1.176130           0.331852       0  \n",
       "6999         -0.382802           0.208013       0  \n",
       "7000          1.460099          -1.425480       1  \n",
       "\n",
       "[7001 rows x 7 columns]"
      ]
     },
     "execution_count": 7,
     "metadata": {},
     "output_type": "execute_result"
    }
   ],
   "source": [
    "X=data[variables]\n",
    "\n",
    "scaler=StandardScaler()\n",
    "X_scaled=scaler.fit_transform(X);\n",
    "data_scaled = pd.DataFrame(X_scaled, columns = variables)\n",
    "df_aux = pd.concat([data_scaled,data['Insect']], axis=1)\n",
    "\n",
    "df_aux"
   ]
  },
  {
   "cell_type": "code",
   "execution_count": 8,
   "metadata": {},
   "outputs": [
    {
     "data": {
      "text/html": [
       "<div>\n",
       "<style scoped>\n",
       "    .dataframe tbody tr th:only-of-type {\n",
       "        vertical-align: middle;\n",
       "    }\n",
       "\n",
       "    .dataframe tbody tr th {\n",
       "        vertical-align: top;\n",
       "    }\n",
       "\n",
       "    .dataframe thead th {\n",
       "        text-align: right;\n",
       "    }\n",
       "</style>\n",
       "<table border=\"1\" class=\"dataframe\">\n",
       "  <thead>\n",
       "    <tr style=\"text-align: right;\">\n",
       "      <th></th>\n",
       "      <th>Sensor_alpha</th>\n",
       "      <th>Sensor_beta</th>\n",
       "      <th>Sensor_gamma</th>\n",
       "      <th>Sensor_alpha_plus</th>\n",
       "      <th>Sensor_beta_plus</th>\n",
       "      <th>Sensor_gamma_plus</th>\n",
       "    </tr>\n",
       "    <tr>\n",
       "      <th>Insect</th>\n",
       "      <th></th>\n",
       "      <th></th>\n",
       "      <th></th>\n",
       "      <th></th>\n",
       "      <th></th>\n",
       "      <th></th>\n",
       "    </tr>\n",
       "  </thead>\n",
       "  <tbody>\n",
       "    <tr>\n",
       "      <th>0</th>\n",
       "      <td>-0.010244</td>\n",
       "      <td>-0.322844</td>\n",
       "      <td>0.044408</td>\n",
       "      <td>0.510815</td>\n",
       "      <td>-0.007240</td>\n",
       "      <td>-0.006092</td>\n",
       "    </tr>\n",
       "    <tr>\n",
       "      <th>1</th>\n",
       "      <td>0.011834</td>\n",
       "      <td>0.205347</td>\n",
       "      <td>0.089493</td>\n",
       "      <td>-0.628096</td>\n",
       "      <td>0.017909</td>\n",
       "      <td>0.017722</td>\n",
       "    </tr>\n",
       "    <tr>\n",
       "      <th>2</th>\n",
       "      <td>0.004346</td>\n",
       "      <td>0.816480</td>\n",
       "      <td>-0.589589</td>\n",
       "      <td>-0.062823</td>\n",
       "      <td>-0.035620</td>\n",
       "      <td>-0.040727</td>\n",
       "    </tr>\n",
       "  </tbody>\n",
       "</table>\n",
       "</div>"
      ],
      "text/plain": [
       "        Sensor_alpha  Sensor_beta  Sensor_gamma  Sensor_alpha_plus  \\\n",
       "Insect                                                               \n",
       "0          -0.010244    -0.322844      0.044408           0.510815   \n",
       "1           0.011834     0.205347      0.089493          -0.628096   \n",
       "2           0.004346     0.816480     -0.589589          -0.062823   \n",
       "\n",
       "        Sensor_beta_plus  Sensor_gamma_plus  \n",
       "Insect                                       \n",
       "0              -0.007240          -0.006092  \n",
       "1               0.017909           0.017722  \n",
       "2              -0.035620          -0.040727  "
      ]
     },
     "execution_count": 8,
     "metadata": {},
     "output_type": "execute_result"
    }
   ],
   "source": [
    "promedios = df_aux.groupby('Insect').mean()[variables]\n",
    "promedios"
   ]
  },
  {
   "cell_type": "code",
   "execution_count": 9,
   "metadata": {},
   "outputs": [
    {
     "data": {
      "image/png": "[encoded data removed]",
      "text/plain": [
       "<Figure size 1440x360 with 2 Axes>"
      ]
     },
     "metadata": {
      "needs_background": "light"
     },
     "output_type": "display_data"
    }
   ],
   "source": [
    "plt.figure(figsize=(20,5))\n",
    "sns.heatmap(promedios, annot = True, vmin = -1, vmax = 1, cmap='RdYlGn');"
   ]
  },
  {
   "cell_type": "markdown",
   "metadata": {},
   "source": [
    "Como podemos ver en el mapa de calor, en promedio nuestras 3 especies de insectos mantienen valores muy similares para las variables 'Sensor_alpha', 'Sensor_beta_plus' y 'Sensor_gamma_plus', pero muestran marcadas diferencias en:\n",
    "* 'Sensor_beta'\n",
    "* 'Sensor_gamma'\n",
    "* 'Sensor_alpha_plus'\n",
    "\n",
    "Para un análisis mas simplificado, podríamos intentar incluso trabajar con esas 3 features como baseline"
   ]
  },
  {
   "cell_type": "code",
   "execution_count": 10,
   "metadata": {},
   "outputs": [
    {
     "data": {
      "image/png": "[encoded data removed]",
      "text/plain": [
       "<Figure size 720x720 with 1 Axes>"
      ]
     },
     "metadata": {
      "needs_background": "light"
     },
     "output_type": "display_data"
    }
   ],
   "source": [
    "labels = list(df_aux['Insect'].unique())\n",
    "\n",
    "plt.figure(figsize=(10,10))\n",
    "ax = plt.axes(projection='3d')\n",
    "#ax.view_init(40, 80)\n",
    "# Labels\n",
    "\n",
    "ax.set_xlabel(\"Sensor Gamma\")\n",
    "\n",
    "ax.set_ylabel(\"Sensor Alpha_plus\")\n",
    "\n",
    "ax.set_zlabel(\"Sensor Beta\")\n",
    "# Data for three-dimensional scattered points\n",
    "zdata = df_aux['Sensor_beta']\n",
    "xdata = df_aux['Sensor_gamma']\n",
    "ydata = df_aux['Sensor_alpha_plus']\n",
    "\n",
    "ax.legend( labels, loc='best')\n",
    "\n",
    "\n",
    "ax.scatter3D(xdata, ydata, zdata, c=df_aux['Insect'], cmap='Set3_r', marker=\"x\");"
   ]
  },
  {
   "cell_type": "markdown",
   "metadata": {},
   "source": [
    "----------------------------------------------------------------------------\n",
    "### Distribucion temporal\n",
    "\n",
    "Para este análisis, veremos si existen diferencias significativas en los horarios en los cuales se registran las observaciones de las distintas clases de insectos"
   ]
  },
  {
   "cell_type": "code",
   "execution_count": 11,
   "metadata": {},
   "outputs": [
    {
     "data": {
      "image/png": "[encoded data removed]",
      "text/plain": [
       "<Figure size 2160x360 with 2 Axes>"
      ]
     },
     "metadata": {
      "needs_background": "light"
     },
     "output_type": "display_data"
    }
   ],
   "source": [
    "\n",
    "data_por_hora = data.pivot_table(values = 'Unnamed: 0',\n",
    "                                 index=data['Insect'],columns=data['Hour'], \n",
    "                                 aggfunc={'Unnamed: 0':'count'})\n",
    "\n",
    "plt.figure(figsize=(30,5))\n",
    "\n",
    "sns.heatmap(data_por_hora, annot = True,fmt='g');"
   ]
  },
  {
   "cell_type": "markdown",
   "metadata": {},
   "source": [
    "Algo interesante que notamos en la imagen, es que:\n",
    "* Los insectos de tipo 0 aparecen mayoritariamente de 18 a 22 horas 🌟\n",
    "* Los insectos de tipo 1 tienen un pico muy maracado a las 21 hs 🤔\n",
    "* Los insectos de tipo 2, si bien son la clase minoritaria, son los únicos que permanecen despiertos hasta las 23 😜"
   ]
  },
  {
   "cell_type": "markdown",
   "metadata": {},
   "source": [
    "## 🚀 Transformaciones de datos"
   ]
  },
  {
   "cell_type": "markdown",
   "metadata": {},
   "source": [
    "Como vimos en el analisis inicial, el dataset de entrenamiento está muy limpio en términos de valores nulos, con lo cual procederemos solamente a eliminar algunas columnas innecesarias (por ejemplo la de indice) y realizar unas pequeñas transformaciones sobre las existentes.\n",
    "* Estandarización de variables\n",
    "* Separación en X e Y\n",
    "* Separacion en train y test set"
   ]
  },
  {
   "cell_type": "markdown",
   "metadata": {},
   "source": [
    "Partiremos del dataset original"
   ]
  },
  {
   "cell_type": "code",
   "execution_count": 12,
   "metadata": {},
   "outputs": [
    {
     "data": {
      "text/html": [
       "<div>\n",
       "<style scoped>\n",
       "    .dataframe tbody tr th:only-of-type {\n",
       "        vertical-align: middle;\n",
       "    }\n",
       "\n",
       "    .dataframe tbody tr th {\n",
       "        vertical-align: top;\n",
       "    }\n",
       "\n",
       "    .dataframe thead th {\n",
       "        text-align: right;\n",
       "    }\n",
       "</style>\n",
       "<table border=\"1\" class=\"dataframe\">\n",
       "  <thead>\n",
       "    <tr style=\"text-align: right;\">\n",
       "      <th></th>\n",
       "      <th>Unnamed: 0</th>\n",
       "      <th>Hour</th>\n",
       "      <th>Minutes</th>\n",
       "      <th>Sensor_alpha</th>\n",
       "      <th>Sensor_beta</th>\n",
       "      <th>Sensor_gamma</th>\n",
       "      <th>Sensor_alpha_plus</th>\n",
       "      <th>Sensor_beta_plus</th>\n",
       "      <th>Sensor_gamma_plus</th>\n",
       "      <th>Insect</th>\n",
       "    </tr>\n",
       "  </thead>\n",
       "  <tbody>\n",
       "    <tr>\n",
       "      <th>0</th>\n",
       "      <td>0</td>\n",
       "      <td>22</td>\n",
       "      <td>26</td>\n",
       "      <td>119.910995</td>\n",
       "      <td>242.838324</td>\n",
       "      <td>-316.819222</td>\n",
       "      <td>250.195048</td>\n",
       "      <td>-53.547777</td>\n",
       "      <td>-112.049983</td>\n",
       "      <td>2</td>\n",
       "    </tr>\n",
       "    <tr>\n",
       "      <th>1</th>\n",
       "      <td>1</td>\n",
       "      <td>10</td>\n",
       "      <td>16</td>\n",
       "      <td>-90.790536</td>\n",
       "      <td>-269.470767</td>\n",
       "      <td>-182.581844</td>\n",
       "      <td>95.394941</td>\n",
       "      <td>37.291944</td>\n",
       "      <td>48.525180</td>\n",
       "      <td>0</td>\n",
       "    </tr>\n",
       "  </tbody>\n",
       "</table>\n",
       "</div>"
      ],
      "text/plain": [
       "   Unnamed: 0  Hour  Minutes  Sensor_alpha  Sensor_beta  Sensor_gamma  \\\n",
       "0           0    22       26    119.910995   242.838324   -316.819222   \n",
       "1           1    10       16    -90.790536  -269.470767   -182.581844   \n",
       "\n",
       "   Sensor_alpha_plus  Sensor_beta_plus  Sensor_gamma_plus  Insect  \n",
       "0         250.195048        -53.547777        -112.049983       2  \n",
       "1          95.394941         37.291944          48.525180       0  "
      ]
     },
     "execution_count": 12,
     "metadata": {},
     "output_type": "execute_result"
    }
   ],
   "source": [
    "data.head(2)"
   ]
  },
  {
   "cell_type": "markdown",
   "metadata": {},
   "source": [
    "Quitaremos la serie Unnamed, y las variables de sensores que no presentaban tantas diferencias respecto a tipos de insectos"
   ]
  },
  {
   "cell_type": "code",
   "execution_count": 13,
   "metadata": {},
   "outputs": [
    {
     "data": {
      "text/html": [
       "<div>\n",
       "<style scoped>\n",
       "    .dataframe tbody tr th:only-of-type {\n",
       "        vertical-align: middle;\n",
       "    }\n",
       "\n",
       "    .dataframe tbody tr th {\n",
       "        vertical-align: top;\n",
       "    }\n",
       "\n",
       "    .dataframe thead th {\n",
       "        text-align: right;\n",
       "    }\n",
       "</style>\n",
       "<table border=\"1\" class=\"dataframe\">\n",
       "  <thead>\n",
       "    <tr style=\"text-align: right;\">\n",
       "      <th></th>\n",
       "      <th>Hour</th>\n",
       "      <th>Sensor_beta</th>\n",
       "      <th>Sensor_gamma</th>\n",
       "      <th>Sensor_alpha_plus</th>\n",
       "      <th>Insect</th>\n",
       "    </tr>\n",
       "  </thead>\n",
       "  <tbody>\n",
       "    <tr>\n",
       "      <th>0</th>\n",
       "      <td>22</td>\n",
       "      <td>242.838324</td>\n",
       "      <td>-316.819222</td>\n",
       "      <td>250.195048</td>\n",
       "      <td>2</td>\n",
       "    </tr>\n",
       "    <tr>\n",
       "      <th>1</th>\n",
       "      <td>10</td>\n",
       "      <td>-269.470767</td>\n",
       "      <td>-182.581844</td>\n",
       "      <td>95.394941</td>\n",
       "      <td>0</td>\n",
       "    </tr>\n",
       "  </tbody>\n",
       "</table>\n",
       "</div>"
      ],
      "text/plain": [
       "   Hour  Sensor_beta  Sensor_gamma  Sensor_alpha_plus  Insect\n",
       "0    22   242.838324   -316.819222         250.195048       2\n",
       "1    10  -269.470767   -182.581844          95.394941       0"
      ]
     },
     "execution_count": 13,
     "metadata": {},
     "output_type": "execute_result"
    }
   ],
   "source": [
    "data_clean = data.drop(labels=['Unnamed: 0','Sensor_alpha','Sensor_beta_plus','Sensor_gamma_plus','Minutes'], axis=1)\n",
    "data_clean.head(2)"
   ]
  },
  {
   "cell_type": "code",
   "execution_count": 14,
   "metadata": {},
   "outputs": [],
   "source": [
    "X = data_clean.drop(columns=['Insect'])\n",
    "y = data_clean.Insect\n",
    "\n",
    "X_train, X_test, y_train, y_test = train_test_split(X, y, test_size = 0.2, random_state = 42)"
   ]
  },
  {
   "cell_type": "code",
   "execution_count": 15,
   "metadata": {},
   "outputs": [
    {
     "data": {
      "text/plain": [
       "0    2823\n",
       "1    2234\n",
       "2     543\n",
       "Name: Insect, dtype: int64"
      ]
     },
     "execution_count": 15,
     "metadata": {},
     "output_type": "execute_result"
    }
   ],
   "source": [
    "y_train.value_counts()"
   ]
  },
  {
   "cell_type": "markdown",
   "metadata": {},
   "source": [
    "Debido a que tenemos muy pocas observaciones de la clase 2, vamos a proceder a generar muestras random de la clase minoritaria"
   ]
  },
  {
   "cell_type": "code",
   "execution_count": 16,
   "metadata": {},
   "outputs": [
    {
     "name": "stdout",
     "output_type": "stream",
     "text": [
      "training set:\n",
      "2    2823\n",
      "0    2823\n",
      "1    2234\n",
      "Name: Insect, dtype: int64\n"
     ]
    }
   ],
   "source": [
    "from imblearn.over_sampling import RandomOverSampler\n",
    "\n",
    "oversampler=RandomOverSampler(sampling_strategy='minority');\n",
    "\n",
    "X_train_os, y_train_os=oversampler.fit_resample(X_train,y_train);\n",
    "\n",
    "print('training set:')\n",
    "print(y_train_os.value_counts())\n",
    "\n"
   ]
  },
  {
   "cell_type": "markdown",
   "metadata": {},
   "source": [
    "Vamos a estandarizar nuevamente las variables, para evitar diferencias de escala.\n",
    "\n",
    "> En este punto estuve dudando si conceptualmente correspondía estandarizar la variable hora, o directamente tratarla como una variable categórica convirtiendola a Dummy. Si bien la decisión de estandarizar o no variables tiene sus bemoles, y hay mucho debate en torno a cuándo y cómo, tomé la decisión de estandarizarla en conjunto con las variables sensoriales ya que en definitiva me interesaba la continuidad de la misma (por eso no la convierto a dummy), y por otro lado tiene una escala completamente diferente a las demás."
   ]
  },
  {
   "cell_type": "code",
   "execution_count": 17,
   "metadata": {},
   "outputs": [],
   "source": [
    "scaler_f=StandardScaler()\n",
    "X_train_sc = scaler_f.fit_transform(X_train_os)\n",
    "X_test_sc = scaler_f.transform(X_test)"
   ]
  },
  {
   "cell_type": "markdown",
   "metadata": {},
   "source": [
    "## Algoritmos"
   ]
  },
  {
   "cell_type": "markdown",
   "metadata": {},
   "source": [
    "### Random Forest Classifier"
   ]
  },
  {
   "cell_type": "code",
   "execution_count": 18,
   "metadata": {},
   "outputs": [],
   "source": [
    "rfc = RandomForestClassifier(n_estimators=200)\n",
    "rfc.fit(X_train_sc, y_train_os)\n",
    "pred_rfc = rfc.predict(X_test_sc)"
   ]
  },
  {
   "cell_type": "code",
   "execution_count": 19,
   "metadata": {},
   "outputs": [
    {
     "name": "stdout",
     "output_type": "stream",
     "text": [
      "              precision    recall  f1-score   support\n",
      "\n",
      "           0       0.89      0.92      0.90       696\n",
      "           1       0.93      0.93      0.93       559\n",
      "           2       0.76      0.62      0.68       146\n",
      "\n",
      "    accuracy                           0.89      1401\n",
      "   macro avg       0.86      0.83      0.84      1401\n",
      "weighted avg       0.89      0.89      0.89      1401\n",
      "\n"
     ]
    }
   ],
   "source": [
    "# Veamos como performa el modelo\n",
    "print(classification_report(y_test, pred_rfc))"
   ]
  },
  {
   "cell_type": "markdown",
   "metadata": {},
   "source": [
    "### Stochastic Gradient Decent Classifier"
   ]
  },
  {
   "cell_type": "code",
   "execution_count": 20,
   "metadata": {},
   "outputs": [],
   "source": [
    "sgd = SGDClassifier(penalty=None)\n",
    "sgd.fit(X_train_sc, y_train_os)\n",
    "pred_sgd = sgd.predict(X_test_sc)"
   ]
  },
  {
   "cell_type": "code",
   "execution_count": 21,
   "metadata": {},
   "outputs": [
    {
     "name": "stdout",
     "output_type": "stream",
     "text": [
      "              precision    recall  f1-score   support\n",
      "\n",
      "           0       0.69      0.77      0.73       696\n",
      "           1       0.76      0.43      0.55       559\n",
      "           2       0.30      0.64      0.41       146\n",
      "\n",
      "    accuracy                           0.62      1401\n",
      "   macro avg       0.59      0.62      0.57      1401\n",
      "weighted avg       0.68      0.62      0.63      1401\n",
      "\n"
     ]
    }
   ],
   "source": [
    "print(classification_report(y_test, pred_sgd))"
   ]
  },
  {
   "cell_type": "markdown",
   "metadata": {},
   "source": [
    "### Support Vector Classifier"
   ]
  },
  {
   "cell_type": "code",
   "execution_count": 22,
   "metadata": {},
   "outputs": [],
   "source": [
    "svc = SVC()\n",
    "svc.fit(X_train_sc, y_train_os)\n",
    "pred_svc = svc.predict(X_test_sc)"
   ]
  },
  {
   "cell_type": "code",
   "execution_count": 23,
   "metadata": {},
   "outputs": [
    {
     "name": "stdout",
     "output_type": "stream",
     "text": [
      "              precision    recall  f1-score   support\n",
      "\n",
      "           0       0.91      0.81      0.85       696\n",
      "           1       0.85      0.89      0.87       559\n",
      "           2       0.56      0.77      0.65       146\n",
      "\n",
      "    accuracy                           0.84      1401\n",
      "   macro avg       0.77      0.82      0.79      1401\n",
      "weighted avg       0.85      0.84      0.84      1401\n",
      "\n"
     ]
    }
   ],
   "source": [
    "print(classification_report(y_test, pred_svc))"
   ]
  },
  {
   "cell_type": "markdown",
   "metadata": {},
   "source": [
    "### Gradient Boost Classifier"
   ]
  },
  {
   "cell_type": "code",
   "execution_count": 24,
   "metadata": {},
   "outputs": [],
   "source": [
    "gbc = GradientBoostingClassifier()\n",
    "gbc.fit(X_train_sc, y_train_os)\n",
    "pred_gbc = gbc.predict(X_test_sc)"
   ]
  },
  {
   "cell_type": "code",
   "execution_count": 25,
   "metadata": {},
   "outputs": [
    {
     "name": "stdout",
     "output_type": "stream",
     "text": [
      "              precision    recall  f1-score   support\n",
      "\n",
      "           0       0.91      0.85      0.88       696\n",
      "           1       0.91      0.94      0.92       559\n",
      "           2       0.62      0.75      0.68       146\n",
      "\n",
      "    accuracy                           0.88      1401\n",
      "   macro avg       0.81      0.85      0.83      1401\n",
      "weighted avg       0.88      0.88      0.88      1401\n",
      "\n"
     ]
    }
   ],
   "source": [
    "print(classification_report(y_test, pred_gbc))"
   ]
  },
  {
   "cell_type": "markdown",
   "metadata": {},
   "source": [
    "### Grid Search Cv"
   ]
  },
  {
   "cell_type": "markdown",
   "metadata": {},
   "source": [
    "Intentaremos mejorar la accuracy de nuestro modelo Random Forest"
   ]
  },
  {
   "cell_type": "code",
   "execution_count": 29,
   "metadata": {},
   "outputs": [],
   "source": [
    "param_grid = { \n",
    "    'n_estimators': [250, 500],\n",
    "    'max_features': ['auto', 'sqrt', 'log2'],\n",
    "    'max_depth' : [4,5,6,7,8],\n",
    "    'criterion' :['gini', 'entropy']\n",
    "}\n",
    "\n",
    "CV_rfc = GridSearchCV(estimator=rfc, param_grid=param_grid, cv= 5)\n",
    "CV_rfc.fit(X_train_sc, y_train_os)\n",
    "pred_cv_rfc = CV_rfc.predict(X_test_sc)"
   ]
  },
  {
   "cell_type": "code",
   "execution_count": 30,
   "metadata": {},
   "outputs": [
    {
     "name": "stdout",
     "output_type": "stream",
     "text": [
      "              precision    recall  f1-score   support\n",
      "\n",
      "           0       0.90      0.86      0.88       696\n",
      "           1       0.90      0.92      0.91       559\n",
      "           2       0.63      0.70      0.66       146\n",
      "\n",
      "    accuracy                           0.87      1401\n",
      "   macro avg       0.81      0.83      0.82      1401\n",
      "weighted avg       0.87      0.87      0.87      1401\n",
      "\n"
     ]
    }
   ],
   "source": [
    "print(classification_report(y_test, pred_cv_rfc))"
   ]
  },
  {
   "cell_type": "markdown",
   "metadata": {},
   "source": [
    "Luego de los análisis realizados sobre el set de train y validacion, vemos que el modelo con mejores resultados es el de random forest, el cual utilizaremos para la predicción final"
   ]
  },
  {
   "cell_type": "markdown",
   "metadata": {},
   "source": [
    "## Predicción"
   ]
  },
  {
   "cell_type": "code",
   "execution_count": 33,
   "metadata": {},
   "outputs": [
    {
     "data": {
      "text/html": [
       "<div>\n",
       "<style scoped>\n",
       "    .dataframe tbody tr th:only-of-type {\n",
       "        vertical-align: middle;\n",
       "    }\n",
       "\n",
       "    .dataframe tbody tr th {\n",
       "        vertical-align: top;\n",
       "    }\n",
       "\n",
       "    .dataframe thead th {\n",
       "        text-align: right;\n",
       "    }\n",
       "</style>\n",
       "<table border=\"1\" class=\"dataframe\">\n",
       "  <thead>\n",
       "    <tr style=\"text-align: right;\">\n",
       "      <th></th>\n",
       "      <th>Unnamed: 0</th>\n",
       "      <th>Hour</th>\n",
       "      <th>Minutes</th>\n",
       "      <th>Sensor_alpha</th>\n",
       "      <th>Sensor_beta</th>\n",
       "      <th>Sensor_gamma</th>\n",
       "      <th>Sensor_alpha_plus</th>\n",
       "      <th>Sensor_beta_plus</th>\n",
       "      <th>Sensor_gamma_plus</th>\n",
       "    </tr>\n",
       "  </thead>\n",
       "  <tbody>\n",
       "    <tr>\n",
       "      <th>0</th>\n",
       "      <td>7000</td>\n",
       "      <td>21</td>\n",
       "      <td>31</td>\n",
       "      <td>-72.083585</td>\n",
       "      <td>-11.434977</td>\n",
       "      <td>-52.961743</td>\n",
       "      <td>-72.696385</td>\n",
       "      <td>145.299227</td>\n",
       "      <td>-143.856243</td>\n",
       "    </tr>\n",
       "    <tr>\n",
       "      <th>1</th>\n",
       "      <td>7001</td>\n",
       "      <td>21</td>\n",
       "      <td>3</td>\n",
       "      <td>-193.619980</td>\n",
       "      <td>40.137081</td>\n",
       "      <td>85.419244</td>\n",
       "      <td>-26.266801</td>\n",
       "      <td>-125.391237</td>\n",
       "      <td>80.904973</td>\n",
       "    </tr>\n",
       "  </tbody>\n",
       "</table>\n",
       "</div>"
      ],
      "text/plain": [
       "   Unnamed: 0  Hour  Minutes  Sensor_alpha  Sensor_beta  Sensor_gamma  \\\n",
       "0        7000    21       31    -72.083585   -11.434977    -52.961743   \n",
       "1        7001    21        3   -193.619980    40.137081     85.419244   \n",
       "\n",
       "   Sensor_alpha_plus  Sensor_beta_plus  Sensor_gamma_plus  \n",
       "0         -72.696385        145.299227        -143.856243  \n",
       "1         -26.266801       -125.391237          80.904973  "
      ]
     },
     "execution_count": 33,
     "metadata": {},
     "output_type": "execute_result"
    }
   ],
   "source": [
    "data_real = pd.read_csv('data/test_x.csv')\n",
    "data_real.head(2)"
   ]
  },
  {
   "cell_type": "code",
   "execution_count": 34,
   "metadata": {},
   "outputs": [
    {
     "data": {
      "text/html": [
       "<div>\n",
       "<style scoped>\n",
       "    .dataframe tbody tr th:only-of-type {\n",
       "        vertical-align: middle;\n",
       "    }\n",
       "\n",
       "    .dataframe tbody tr th {\n",
       "        vertical-align: top;\n",
       "    }\n",
       "\n",
       "    .dataframe thead th {\n",
       "        text-align: right;\n",
       "    }\n",
       "</style>\n",
       "<table border=\"1\" class=\"dataframe\">\n",
       "  <thead>\n",
       "    <tr style=\"text-align: right;\">\n",
       "      <th></th>\n",
       "      <th>Hour</th>\n",
       "      <th>Sensor_beta</th>\n",
       "      <th>Sensor_gamma</th>\n",
       "      <th>Sensor_alpha_plus</th>\n",
       "    </tr>\n",
       "  </thead>\n",
       "  <tbody>\n",
       "    <tr>\n",
       "      <th>0</th>\n",
       "      <td>21</td>\n",
       "      <td>-11.434977</td>\n",
       "      <td>-52.961743</td>\n",
       "      <td>-72.696385</td>\n",
       "    </tr>\n",
       "    <tr>\n",
       "      <th>1</th>\n",
       "      <td>21</td>\n",
       "      <td>40.137081</td>\n",
       "      <td>85.419244</td>\n",
       "      <td>-26.266801</td>\n",
       "    </tr>\n",
       "  </tbody>\n",
       "</table>\n",
       "</div>"
      ],
      "text/plain": [
       "   Hour  Sensor_beta  Sensor_gamma  Sensor_alpha_plus\n",
       "0    21   -11.434977    -52.961743         -72.696385\n",
       "1    21    40.137081     85.419244         -26.266801"
      ]
     },
     "execution_count": 34,
     "metadata": {},
     "output_type": "execute_result"
    }
   ],
   "source": [
    "data_real_clean = data_real.drop(labels=['Unnamed: 0','Sensor_alpha','Sensor_beta_plus','Sensor_gamma_plus','Minutes'], axis=1)\n",
    "data_real_clean.head(2)"
   ]
  },
  {
   "cell_type": "code",
   "execution_count": 35,
   "metadata": {},
   "outputs": [],
   "source": [
    "X_real_sc = scaler_f.transform(data_real_clean)"
   ]
  },
  {
   "cell_type": "code",
   "execution_count": 36,
   "metadata": {},
   "outputs": [],
   "source": [
    "predicciones = rfc.predict(X_real_sc)"
   ]
  },
  {
   "cell_type": "markdown",
   "metadata": {},
   "source": [
    "Guardamos las predicciones en un df"
   ]
  },
  {
   "cell_type": "code",
   "execution_count": 40,
   "metadata": {},
   "outputs": [],
   "source": [
    "data_final = pd.DataFrame(predicciones,columns=['Insect'])"
   ]
  },
  {
   "cell_type": "code",
   "execution_count": 44,
   "metadata": {},
   "outputs": [],
   "source": [
    "data_final.to_csv('resultados/results.csv',index=False)"
   ]
  },
  {
   "cell_type": "markdown",
   "metadata": {},
   "source": [
    "<img src=\"https://img.freepik.com/vector-gratis/correo-electronico-gracias-banner-ilustracion-plana-tarjeta-felicitacion-sobre-texto-gracias-vector-fondo_2175-1525.jpg\" width=800>"
   ]
  },
  {
   "cell_type": "code",
   "execution_count": null,
   "metadata": {},
   "outputs": [],
   "source": []
  }
 ],
 "metadata": {
  "kernelspec": {
   "display_name": "Python 3",
   "language": "python",
   "name": "python3"
  },
  "language_info": {
   "codemirror_mode": {
    "name": "ipython",
    "version": 3
   },
   "file_extension": ".py",
   "mimetype": "text/x-python",
   "name": "python",
   "nbconvert_exporter": "python",
   "pygments_lexer": "ipython3",
   "version": "3.7.9"
  }
 },
 "nbformat": 4,
 "nbformat_minor": 4
}
