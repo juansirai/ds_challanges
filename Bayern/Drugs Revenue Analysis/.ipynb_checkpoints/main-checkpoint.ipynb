{
 "cells": [
  {
   "cell_type": "markdown",
   "metadata": {},
   "source": [
    "# Drugs Revenue Analysis\n",
    "By Juan Sirai"
   ]
  },
  {
   "cell_type": "markdown",
   "metadata": {},
   "source": [
    "<img src=\"https://www.directivepublications.org/images/background/pharma.jpg\">"
   ]
  },
  {
   "cell_type": "markdown",
   "metadata": {},
   "source": [
    "## Objective\n",
    "\n",
    "In the first project we propose you to perform an analysis of the sales of drugs sold in the United States. Here you can find the dataset we will have to analyze. To do this we will ask you a series of questions that we want you to answer by analyzing the data.\n",
    "\n",
    "### 1. Clean and understand the dataset\n",
    "Before proceeding to answer the questions, it is very important to clean the data in order to achieve more robust analyses.<br>\n",
    "Therefore, we ask you to clean the data in addition to answering the following questions:\n",
    "\n",
    "* Which are the columns in which we have NaN's values? What is the meaning of the NaN's and why is important to delete these rows?\n",
    "* Can you find a value that we can consider NaN even if it is not explicitly specified? If so, should we delete its records or keep them?\n",
    "* How many records, rows, do you have left after cleaning?\n",
    "* What's the meaning of NDC and why it's important to know the size of the packages?\n",
    "\n",
    "### 2. Data insights\n",
    "Now it's our turn to be able to make our first insights as data analysts! For this we ask you to perform a function that can generate the following charts:\n",
    "\n",
    "* To know the Macro economic context at the US level, we will need to visualize for each product the total reimbursed for each semester.\n",
    "* On a smaller scale, instead of doing exercise 2 at the U.S. level, we ask you to do it for each state.\n",
    "* What's the product code that has more frequency in USA? What's the meaning of this code and in 10 years do you think it will still be at the top?\n",
    "\n",
    "-------------------------------------------------------------------\n",
    "\n",
    "## Some context and definitions\n",
    "\n",
    "\n",
    "Many pharmaceutical companies, state programs and nonprofits have drug assistance programs (PAPs) that offer free or low-cost medicines if you don’t have insurance or are underinsured and can’t afford your medicine.\n",
    "\n",
    "Programs and program benefits vary. Depending on your insurance and medicine, you may be eligible for help to reduce their medicine copay. You may qualify for free medicines if you do not have health insurance, do not have enough health insurance to cover your medicines or meet certain criteria.\n",
    "\n",
    "## About the dataset\n",
    "\n",
    "State Drug Utilization Data (SDUD) has been reported by states since the start of the Medicaid Drug Rebate Program for covered outpatient drugs paid for by state Medicaid agencies.\n",
    "\n",
    "The Medicaid Drug Rebate Program (MDRP) is a program that includes Centers for Medicare & Medicaid Services (CMS), state Medicaid agencies, and participating drug manufacturers that helps to offset the Federal and state costs of most outpatient prescription drugs dispensed to Medicaid patients. Approximately 780 drug manufacturers currently participate in this program. All fifty states and the District of Columbia cover prescription drugs under the MDRP, which is authorized by Section 1927 of the Social Security Act.\n",
    "\n",
    "The program requires a drug manufacturer to enter into, and have in effect, a National Drug Rebate Agreement (NDRA) with the Secretary of the Department of Health and Human Services (HHS) in exchange for state Medicaid coverage of most of the manufacturer’s drugs. When a manufacturer markets a new covered outpatient drug (COD), it must also submit product and pricing data concerning the drug to CMS via the Medicaid Drug Programs (MDP) system. This ensures that states are aware of the newly marketed drug. In addition, Section II(g) of the NDRA explains that manufacturers are responsible for notifying states of a new drug’s coverage. Manufacturers are required to report all CODs under their labeler code to the MDRP. Manufacturers may not be selective in reporting their National Drug Code's (NDC) to the program. Manufacturers are then responsible for paying a rebate on those drugs for which payment was made under the state plan. These rebates are paid by drug manufacturers on a quarterly basis to states and are shared between the states and the Federal government to offset the overall cost of prescription drugs under the Medicaid Program.\n",
    "\n",
    "\"Units Reimbursed\" are the number of units (based on Unit Type) of the drug (11-digit NDC level) reimbursed by the state or, for MCO drugs, the number of units dispensed during the Quarter/Year. For more specific information, you may contact either the Drug Manufacturer or State via the contact lists.\n",
    "\n",
    "-----------------------------------------------------------------"
   ]
  },
  {
   "cell_type": "code",
   "execution_count": 23,
   "metadata": {},
   "outputs": [],
   "source": [
    "import pandas as pd\n",
    "import matplotlib.pyplot as plt\n",
    "import seaborn as sns\n",
    "\n",
    "import re"
   ]
  },
  {
   "cell_type": "markdown",
   "metadata": {},
   "source": [
    "## 💊 1- Data Cleaning"
   ]
  },
  {
   "cell_type": "code",
   "execution_count": 3,
   "metadata": {},
   "outputs": [],
   "source": [
    "df = pd.read_csv('data/DrugUtilization2021_revisedsep2022.csv')"
   ]
  },
  {
   "cell_type": "markdown",
   "metadata": {},
   "source": [
    "#### A- Which are the columns in which we have NaN's values? What is the meaning of the NaN's and why is important to delete these rows?"
   ]
  },
  {
   "cell_type": "code",
   "execution_count": 15,
   "metadata": {},
   "outputs": [
    {
     "data": {
      "text/plain": [
       "Text(0.5, 1.0, 'Null values as percentage of total')"
      ]
     },
     "execution_count": 15,
     "metadata": {},
     "output_type": "execute_result"
    },
    {
     "data": {
      "image/png": "[encoded data removed]",
      "text/plain": [
       "<Figure size 216x360 with 1 Axes>"
      ]
     },
     "metadata": {
      "needs_background": "light"
     },
     "output_type": "display_data"
    }
   ],
   "source": [
    "plt.figure(figsize=(3,5))\n",
    "sns.barplot(y = df.columns, x = df.isnull().sum() / df.shape[0])\n",
    "plt.title('Null values as percentage of total', size=20)"
   ]
  },
  {
   "cell_type": "markdown",
   "metadata": {},
   "source": [
    "The columns with NAN values, are the ones related with the reimbursment. The meaning is: \"We did not register a reimbursment for that specific product, in that particular combination of quarter, state and utilization type\"\n",
    "\n",
    "It's important to delete that records, since are not meaningful for our analysis: we are analyzing the utilization of drugs, and those rows are related with drugs which were not used."
   ]
  },
  {
   "cell_type": "markdown",
   "metadata": {},
   "source": [
    "#### B- Can you find a value that we can consider NaN even if it is not explicitly specified? If so, should we delete its records or keep them?\n",
    "\n",
    "Yes, we also have products with name as a sequence of spaces '     '.<br>\n",
    "Since the space is, in fact, an ascii character, they are not explicit blanks.\n",
    "\n",
    "In those cases, is not necesary to delete them, since we can track the utilization of drugs by following the NDC code, which will be a more accurate field to identify each product in an unique way."
   ]
  },
  {
   "cell_type": "code",
   "execution_count": 27,
   "metadata": {},
   "outputs": [
    {
     "data": {
      "text/html": [
       "<div>\n",
       "<style scoped>\n",
       "    .dataframe tbody tr th:only-of-type {\n",
       "        vertical-align: middle;\n",
       "    }\n",
       "\n",
       "    .dataframe tbody tr th {\n",
       "        vertical-align: top;\n",
       "    }\n",
       "\n",
       "    .dataframe thead th {\n",
       "        text-align: right;\n",
       "    }\n",
       "</style>\n",
       "<table border=\"1\" class=\"dataframe\">\n",
       "  <thead>\n",
       "    <tr style=\"text-align: right;\">\n",
       "      <th></th>\n",
       "      <th>utilization_type</th>\n",
       "      <th>state</th>\n",
       "      <th>ndc</th>\n",
       "      <th>labeler_code</th>\n",
       "      <th>product_code</th>\n",
       "      <th>package_size</th>\n",
       "      <th>year</th>\n",
       "      <th>quarter</th>\n",
       "      <th>suppression_used</th>\n",
       "      <th>product_name</th>\n",
       "      <th>units_reimbursed</th>\n",
       "      <th>number_of_prescriptions</th>\n",
       "      <th>total_amount_reimbursed</th>\n",
       "      <th>medicaid_amount_reimbursed</th>\n",
       "      <th>non_medicaid_amount_reimbursed</th>\n",
       "    </tr>\n",
       "  </thead>\n",
       "  <tbody>\n",
       "    <tr>\n",
       "      <th>1031204</th>\n",
       "      <td>MCOU</td>\n",
       "      <td>HI</td>\n",
       "      <td>46122060705</td>\n",
       "      <td>46122</td>\n",
       "      <td>607</td>\n",
       "      <td>5</td>\n",
       "      <td>2021</td>\n",
       "      <td>3</td>\n",
       "      <td>True</td>\n",
       "      <td></td>\n",
       "      <td>NaN</td>\n",
       "      <td>NaN</td>\n",
       "      <td>NaN</td>\n",
       "      <td>NaN</td>\n",
       "      <td>NaN</td>\n",
       "    </tr>\n",
       "    <tr>\n",
       "      <th>1042490</th>\n",
       "      <td>MCOU</td>\n",
       "      <td>HI</td>\n",
       "      <td>46122060705</td>\n",
       "      <td>46122</td>\n",
       "      <td>607</td>\n",
       "      <td>5</td>\n",
       "      <td>2021</td>\n",
       "      <td>2</td>\n",
       "      <td>True</td>\n",
       "      <td></td>\n",
       "      <td>NaN</td>\n",
       "      <td>NaN</td>\n",
       "      <td>NaN</td>\n",
       "      <td>NaN</td>\n",
       "      <td>NaN</td>\n",
       "    </tr>\n",
       "    <tr>\n",
       "      <th>1053876</th>\n",
       "      <td>MCOU</td>\n",
       "      <td>HI</td>\n",
       "      <td>46122060705</td>\n",
       "      <td>46122</td>\n",
       "      <td>607</td>\n",
       "      <td>5</td>\n",
       "      <td>2021</td>\n",
       "      <td>1</td>\n",
       "      <td>True</td>\n",
       "      <td></td>\n",
       "      <td>NaN</td>\n",
       "      <td>NaN</td>\n",
       "      <td>NaN</td>\n",
       "      <td>NaN</td>\n",
       "      <td>NaN</td>\n",
       "    </tr>\n",
       "    <tr>\n",
       "      <th>1279467</th>\n",
       "      <td>MCOU</td>\n",
       "      <td>IL</td>\n",
       "      <td>50228045290</td>\n",
       "      <td>50228</td>\n",
       "      <td>452</td>\n",
       "      <td>90</td>\n",
       "      <td>2021</td>\n",
       "      <td>2</td>\n",
       "      <td>False</td>\n",
       "      <td></td>\n",
       "      <td>1140.0</td>\n",
       "      <td>34.0</td>\n",
       "      <td>358.89</td>\n",
       "      <td>358.89</td>\n",
       "      <td>0.0</td>\n",
       "    </tr>\n",
       "    <tr>\n",
       "      <th>1289603</th>\n",
       "      <td>MCOU</td>\n",
       "      <td>IL</td>\n",
       "      <td>68180090273</td>\n",
       "      <td>68180</td>\n",
       "      <td>902</td>\n",
       "      <td>73</td>\n",
       "      <td>2021</td>\n",
       "      <td>2</td>\n",
       "      <td>False</td>\n",
       "      <td></td>\n",
       "      <td>2744.0</td>\n",
       "      <td>67.0</td>\n",
       "      <td>1299.91</td>\n",
       "      <td>1299.91</td>\n",
       "      <td>0.0</td>\n",
       "    </tr>\n",
       "    <tr>\n",
       "      <th>...</th>\n",
       "      <td>...</td>\n",
       "      <td>...</td>\n",
       "      <td>...</td>\n",
       "      <td>...</td>\n",
       "      <td>...</td>\n",
       "      <td>...</td>\n",
       "      <td>...</td>\n",
       "      <td>...</td>\n",
       "      <td>...</td>\n",
       "      <td>...</td>\n",
       "      <td>...</td>\n",
       "      <td>...</td>\n",
       "      <td>...</td>\n",
       "      <td>...</td>\n",
       "      <td>...</td>\n",
       "    </tr>\n",
       "    <tr>\n",
       "      <th>3304917</th>\n",
       "      <td>FFSU</td>\n",
       "      <td>NM</td>\n",
       "      <td>24201010224</td>\n",
       "      <td>24201</td>\n",
       "      <td>102</td>\n",
       "      <td>24</td>\n",
       "      <td>2021</td>\n",
       "      <td>2</td>\n",
       "      <td>True</td>\n",
       "      <td></td>\n",
       "      <td>NaN</td>\n",
       "      <td>NaN</td>\n",
       "      <td>NaN</td>\n",
       "      <td>NaN</td>\n",
       "      <td>NaN</td>\n",
       "    </tr>\n",
       "    <tr>\n",
       "      <th>3309472</th>\n",
       "      <td>FFSU</td>\n",
       "      <td>NM</td>\n",
       "      <td>55513007104</td>\n",
       "      <td>55513</td>\n",
       "      <td>71</td>\n",
       "      <td>4</td>\n",
       "      <td>2021</td>\n",
       "      <td>2</td>\n",
       "      <td>True</td>\n",
       "      <td></td>\n",
       "      <td>NaN</td>\n",
       "      <td>NaN</td>\n",
       "      <td>NaN</td>\n",
       "      <td>NaN</td>\n",
       "      <td>NaN</td>\n",
       "    </tr>\n",
       "    <tr>\n",
       "      <th>3318674</th>\n",
       "      <td>MCOU</td>\n",
       "      <td>NM</td>\n",
       "      <td>93065800</td>\n",
       "      <td>93</td>\n",
       "      <td>658</td>\n",
       "      <td>0</td>\n",
       "      <td>2021</td>\n",
       "      <td>1</td>\n",
       "      <td>True</td>\n",
       "      <td></td>\n",
       "      <td>NaN</td>\n",
       "      <td>NaN</td>\n",
       "      <td>NaN</td>\n",
       "      <td>NaN</td>\n",
       "      <td>NaN</td>\n",
       "    </tr>\n",
       "    <tr>\n",
       "      <th>3321627</th>\n",
       "      <td>FFSU</td>\n",
       "      <td>NM</td>\n",
       "      <td>469625018</td>\n",
       "      <td>469</td>\n",
       "      <td>6250</td>\n",
       "      <td>18</td>\n",
       "      <td>2021</td>\n",
       "      <td>1</td>\n",
       "      <td>True</td>\n",
       "      <td></td>\n",
       "      <td>NaN</td>\n",
       "      <td>NaN</td>\n",
       "      <td>NaN</td>\n",
       "      <td>NaN</td>\n",
       "      <td>NaN</td>\n",
       "    </tr>\n",
       "    <tr>\n",
       "      <th>3326077</th>\n",
       "      <td>FFSU</td>\n",
       "      <td>NM</td>\n",
       "      <td>25021080850</td>\n",
       "      <td>25021</td>\n",
       "      <td>808</td>\n",
       "      <td>50</td>\n",
       "      <td>2021</td>\n",
       "      <td>1</td>\n",
       "      <td>True</td>\n",
       "      <td></td>\n",
       "      <td>NaN</td>\n",
       "      <td>NaN</td>\n",
       "      <td>NaN</td>\n",
       "      <td>NaN</td>\n",
       "      <td>NaN</td>\n",
       "    </tr>\n",
       "  </tbody>\n",
       "</table>\n",
       "<p>12429 rows × 15 columns</p>\n",
       "</div>"
      ],
      "text/plain": [
       "        utilization_type state          ndc  labeler_code  product_code  \\\n",
       "1031204             MCOU    HI  46122060705         46122           607   \n",
       "1042490             MCOU    HI  46122060705         46122           607   \n",
       "1053876             MCOU    HI  46122060705         46122           607   \n",
       "1279467             MCOU    IL  50228045290         50228           452   \n",
       "1289603             MCOU    IL  68180090273         68180           902   \n",
       "...                  ...   ...          ...           ...           ...   \n",
       "3304917             FFSU    NM  24201010224         24201           102   \n",
       "3309472             FFSU    NM  55513007104         55513            71   \n",
       "3318674             MCOU    NM     93065800            93           658   \n",
       "3321627             FFSU    NM    469625018           469          6250   \n",
       "3326077             FFSU    NM  25021080850         25021           808   \n",
       "\n",
       "         package_size  year  quarter  suppression_used product_name  \\\n",
       "1031204             5  2021        3              True                \n",
       "1042490             5  2021        2              True                \n",
       "1053876             5  2021        1              True                \n",
       "1279467            90  2021        2             False                \n",
       "1289603            73  2021        2             False                \n",
       "...               ...   ...      ...               ...          ...   \n",
       "3304917            24  2021        2              True                \n",
       "3309472             4  2021        2              True                \n",
       "3318674             0  2021        1              True                \n",
       "3321627            18  2021        1              True                \n",
       "3326077            50  2021        1              True                \n",
       "\n",
       "         units_reimbursed  number_of_prescriptions  total_amount_reimbursed  \\\n",
       "1031204               NaN                      NaN                      NaN   \n",
       "1042490               NaN                      NaN                      NaN   \n",
       "1053876               NaN                      NaN                      NaN   \n",
       "1279467            1140.0                     34.0                   358.89   \n",
       "1289603            2744.0                     67.0                  1299.91   \n",
       "...                   ...                      ...                      ...   \n",
       "3304917               NaN                      NaN                      NaN   \n",
       "3309472               NaN                      NaN                      NaN   \n",
       "3318674               NaN                      NaN                      NaN   \n",
       "3321627               NaN                      NaN                      NaN   \n",
       "3326077               NaN                      NaN                      NaN   \n",
       "\n",
       "         medicaid_amount_reimbursed  non_medicaid_amount_reimbursed  \n",
       "1031204                         NaN                             NaN  \n",
       "1042490                         NaN                             NaN  \n",
       "1053876                         NaN                             NaN  \n",
       "1279467                      358.89                             0.0  \n",
       "1289603                     1299.91                             0.0  \n",
       "...                             ...                             ...  \n",
       "3304917                         NaN                             NaN  \n",
       "3309472                         NaN                             NaN  \n",
       "3318674                         NaN                             NaN  \n",
       "3321627                         NaN                             NaN  \n",
       "3326077                         NaN                             NaN  \n",
       "\n",
       "[12429 rows x 15 columns]"
      ]
     },
     "execution_count": 27,
     "metadata": {},
     "output_type": "execute_result"
    }
   ],
   "source": [
    "df.loc[df.product_name.str.contains('^ ')]"
   ]
  },
  {
   "cell_type": "code",
   "execution_count": 28,
   "metadata": {},
   "outputs": [
    {
     "name": "stdout",
     "output_type": "stream",
     "text": [
      "Total cases of blank name of products : 12429\n"
     ]
    }
   ],
   "source": [
    "print(f\"Total cases of blank name of products : {df.loc[df.product_name.str.contains('^ ')].shape[0]}\")"
   ]
  },
  {
   "cell_type": "markdown",
   "metadata": {},
   "source": [
    "#### How many records, rows, do you have left after cleaning?\n"
   ]
  },
  {
   "cell_type": "code",
   "execution_count": 34,
   "metadata": {},
   "outputs": [
    {
     "name": "stdout",
     "output_type": "stream",
     "text": [
      "Rows of original dataset: 4997243\n",
      "Rows of cleaned dataset 2563576\n",
      "Reduction of rows: -49.0%\n"
     ]
    }
   ],
   "source": [
    "df_cleaned = df.dropna()\n",
    "print(f\"Rows of original dataset: {df.shape[0]}\\nRows of cleaned dataset {df_cleaned.shape[0]}\\nReduction of rows: {round((df_cleaned.shape[0] - df.shape[0]) / df.shape[0],2)*100 }%\")"
   ]
  },
  {
   "cell_type": "markdown",
   "metadata": {},
   "source": [
    "#### What's the meaning of NDC and why it's important to know the size of the packages"
   ]
  },
  {
   "cell_type": "markdown",
   "metadata": {},
   "source": [
    "Each listed drug product listed is assigned a unique 10-digit, 3-segment number.  This number, known as the NDC, identifies the labeler, product, and trade package size.  The first segment, the labeler code, is assigned by the FDA.  A labeler is any firm that manufactures (including repackers or relabelers), or distributes (under its own name) the drug. The second segment, the product code, identifies a specific strength, dosage form, and formulation for a particular firm. The third segment, the package code, identifies package sizes and types. Both the product and package codes are assigned by the firm. The NDC will be in one of the following configurations: 4-4-2, 5-3-2, or 5-4-1.\n",
    "\n",
    "Talking about the third part of the NDC, <b>the package</b>, it's important to know its sice because different package sizes for the same pharma, will represents differences at the total volume/units distributed.\n",
    "\n",
    "----------------------------------------------"
   ]
  },
  {
   "cell_type": "markdown",
   "metadata": {},
   "source": [
    "## Data Insights"
   ]
  },
  {
   "cell_type": "markdown",
   "metadata": {},
   "source": [
    "#### 1- Visualize for each product the total reimbursed for each semester."
   ]
  },
  {
   "cell_type": "code",
   "execution_count": null,
   "metadata": {},
   "outputs": [],
   "source": [
    "def graph_product(product_name):\n",
    "    "
   ]
  },
  {
   "cell_type": "code",
   "execution_count": 50,
   "metadata": {},
   "outputs": [
    {
     "name": "stdout",
     "output_type": "stream",
     "text": [
      "Since we have 5285 different products, we cannot visualize all of it in the same graph.For that reason,\n",
      "we defined a function which takes one product code as parameter, and then makes an specific visual for it\n"
     ]
    }
   ],
   "source": [
    "print(f\"Since we have {len(df_cleaned.product_code.unique())} different products, we cannot visualize all of it in the same graph.For that reason,\\nwe defined a function which takes one product code as parameter, and then makes an specific visual for it\")"
   ]
  },
  {
   "cell_type": "code",
   "execution_count": 60,
   "metadata": {},
   "outputs": [
    {
     "name": "stdout",
     "output_type": "stream",
     "text": [
      "quarter\n",
      "1    4.050101e+10\n",
      "2    4.159251e+10\n",
      "3    4.247286e+10\n",
      "4    4.302536e+10\n",
      "Name: total_amount_reimbursed, dtype: float64\n",
      "quarter\n",
      "1    1.022020e+08\n",
      "2    1.050167e+08\n",
      "3    1.060285e+08\n",
      "4    1.039075e+08\n",
      "Name: total_amount_reimbursed, dtype: float64\n"
     ]
    }
   ],
   "source": [
    "df_grouped_all = df_cleaned.groupby('quarter')['total_amount_reimbursed'].sum()\n",
    "df_grouped_product = df_cleaned.loc[df_cleaned.product_code == 607].groupby('quarter')['total_amount_reimbursed'].sum()\n",
    "print(df_grouped)\n",
    "print(df_grouped_product)"
   ]
  },
  {
   "cell_type": "code",
   "execution_count": 73,
   "metadata": {},
   "outputs": [],
   "source": [
    "df_grouped_product = df_cleaned.pivot_table(index=['quarter','product_code'],values = 'total_amount_reimbursed', aggfunc=sum).reset_index()"
   ]
  },
  {
   "cell_type": "code",
   "execution_count": 82,
   "metadata": {},
   "outputs": [
    {
     "data": {
      "text/html": [
       "<div>\n",
       "<style scoped>\n",
       "    .dataframe tbody tr th:only-of-type {\n",
       "        vertical-align: middle;\n",
       "    }\n",
       "\n",
       "    .dataframe tbody tr th {\n",
       "        vertical-align: top;\n",
       "    }\n",
       "\n",
       "    .dataframe thead th {\n",
       "        text-align: right;\n",
       "    }\n",
       "</style>\n",
       "<table border=\"1\" class=\"dataframe\">\n",
       "  <thead>\n",
       "    <tr style=\"text-align: right;\">\n",
       "      <th></th>\n",
       "      <th>quarter</th>\n",
       "      <th>product_code</th>\n",
       "      <th>total_amount_reimbursed</th>\n",
       "    </tr>\n",
       "  </thead>\n",
       "  <tbody>\n",
       "    <tr>\n",
       "      <th>554</th>\n",
       "      <td>1</td>\n",
       "      <td>554</td>\n",
       "      <td>1.167438e+09</td>\n",
       "    </tr>\n",
       "    <tr>\n",
       "      <th>1946</th>\n",
       "      <td>1</td>\n",
       "      <td>2501</td>\n",
       "      <td>1.083439e+09</td>\n",
       "    </tr>\n",
       "    <tr>\n",
       "      <th>100</th>\n",
       "      <td>1</td>\n",
       "      <td>100</td>\n",
       "      <td>5.538200e+08</td>\n",
       "    </tr>\n",
       "    <tr>\n",
       "      <th>1831</th>\n",
       "      <td>1</td>\n",
       "      <td>2219</td>\n",
       "      <td>4.626497e+08</td>\n",
       "    </tr>\n",
       "    <tr>\n",
       "      <th>331</th>\n",
       "      <td>1</td>\n",
       "      <td>331</td>\n",
       "      <td>4.548157e+08</td>\n",
       "    </tr>\n",
       "    <tr>\n",
       "      <th>...</th>\n",
       "      <td>...</td>\n",
       "      <td>...</td>\n",
       "      <td>...</td>\n",
       "    </tr>\n",
       "    <tr>\n",
       "      <th>18010</th>\n",
       "      <td>4</td>\n",
       "      <td>4826</td>\n",
       "      <td>0.000000e+00</td>\n",
       "    </tr>\n",
       "    <tr>\n",
       "      <th>19184</th>\n",
       "      <td>4</td>\n",
       "      <td>7339</td>\n",
       "      <td>0.000000e+00</td>\n",
       "    </tr>\n",
       "    <tr>\n",
       "      <th>19459</th>\n",
       "      <td>4</td>\n",
       "      <td>8455</td>\n",
       "      <td>0.000000e+00</td>\n",
       "    </tr>\n",
       "    <tr>\n",
       "      <th>19492</th>\n",
       "      <td>4</td>\n",
       "      <td>8726</td>\n",
       "      <td>0.000000e+00</td>\n",
       "    </tr>\n",
       "    <tr>\n",
       "      <th>19662</th>\n",
       "      <td>4</td>\n",
       "      <td>9304</td>\n",
       "      <td>0.000000e+00</td>\n",
       "    </tr>\n",
       "  </tbody>\n",
       "</table>\n",
       "<p>19865 rows × 3 columns</p>\n",
       "</div>"
      ],
      "text/plain": [
       "       quarter  product_code  total_amount_reimbursed\n",
       "554          1           554             1.167438e+09\n",
       "1946         1          2501             1.083439e+09\n",
       "100          1           100             5.538200e+08\n",
       "1831         1          2219             4.626497e+08\n",
       "331          1           331             4.548157e+08\n",
       "...        ...           ...                      ...\n",
       "18010        4          4826             0.000000e+00\n",
       "19184        4          7339             0.000000e+00\n",
       "19459        4          8455             0.000000e+00\n",
       "19492        4          8726             0.000000e+00\n",
       "19662        4          9304             0.000000e+00\n",
       "\n",
       "[19865 rows x 3 columns]"
      ]
     },
     "metadata": {},
     "output_type": "display_data"
    }
   ],
   "source": [
    "display(df_grouped_product.sort_values(['quarter','total_amount_reimbursed'], ascending=[True, False]))"
   ]
  },
  {
   "cell_type": "code",
   "execution_count": null,
   "metadata": {},
   "outputs": [],
   "source": []
  }
 ],
 "metadata": {
  "kernelspec": {
   "display_name": "Python 3",
   "language": "python",
   "name": "python3"
  },
  "language_info": {
   "codemirror_mode": {
    "name": "ipython",
    "version": 3
   },
   "file_extension": ".py",
   "mimetype": "text/x-python",
   "name": "python",
   "nbconvert_exporter": "python",
   "pygments_lexer": "ipython3",
   "version": "3.7.9"
  }
 },
 "nbformat": 4,
 "nbformat_minor": 4
}
