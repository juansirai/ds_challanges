{
 "cells": [
  {
   "cell_type": "code",
   "execution_count": 1,
   "metadata": {},
   "outputs": [],
   "source": [
    "# the idea of this script, is to replicate the final csv that we craft during the exploratory analysis, in order to feed the BI.\n",
    "\n",
    "import pandas as pd\n",
    "import numpy as np\n",
    "from sklearn.linear_model import LinearRegression\n",
    "\n",
    "def create_model(x, y):\n",
    "    '''\n",
    "    returns a linear regression object, \n",
    "    trained with flight delay data\n",
    "    '''\n",
    "    lin = LinearRegression()\n",
    "    lin.fit(x, y)\n",
    "    return lin\n",
    "\n",
    "\n",
    "def create_dataframe(df):\n",
    "    # filling na values\n",
    "    df_wo_na = df.copy().dropna()\n",
    "    x=df_wo_na[\"Departure Delay in Minutes\"].values.reshape((-1, 1))\n",
    "    y=df_wo_na[\"Arrival Delay in Minutes\"]\n",
    "    lin = create_model(x, y)\n",
    "    df['Arrival Delay in Minutes'].fillna( lin.coef_[0] * df['Departure Delay in Minutes'] + lin.intercept_, inplace=True)\n",
    "    \n",
    "    # avg of satisfaction score\n",
    "    df['satisfaction_avg'] = round((df['Inflight wifi service'] + df['Departure/Arrival time convenient'] + df['Ease of Online booking'] +\n",
    "                        df['Gate location'] + df['Food and drink'] + df['Online boarding'] + df['Seat comfort'] + df['Inflight entertainment'] + \n",
    "                        df['On-board service'] + df['Leg room service'] + df['Baggage handling'] + df['Checkin service'] +df['Inflight service'] + df['Cleanliness']) /14,2)\n",
    "\n",
    "    # make the total delay relative to flight distance\n",
    "    df['total_delay over distance'] = (df['Departure Delay in Minutes'] + df['Arrival Delay in Minutes']) / df['Flight Distance']\n",
    "\n",
    "    # make bins of age\n",
    "    df['age_range'] = df.Age.apply(lambda x: '<20' if x<20 else ('20-30' if x <30 else ('30-40' if x <40 else ('40-50' if x<50 else '>=50'))))\n",
    "    df.drop(columns='Unnamed: 0', inplace=True)\n",
    "    return df\n",
    "\n",
    "\n",
    "df = pd.read_csv('cuestionario_satisfaccion.csv')\n",
    "df_clean = create_dataframe(df)\n",
    "df_clean.to_excel('clean_survey.xlsx')"
   ]
  },
  {
   "cell_type": "code",
   "execution_count": 13,
   "metadata": {},
   "outputs": [],
   "source": [
    "def generate_correlation_data(df):\n",
    "    '''generates a dataset with the correlation index \n",
    "    between satisfaction and features'''\n",
    "    df['satisfaction_bool'] = df.satisfaction.apply(lambda x: 1 if x=='satisfied' else 0)\n",
    "    correlation = df.corr()[['satisfaction_bool']]\n",
    "    return correlation\n",
    "\n",
    "corr_df = pd.DataFrame(generate_correlation_data(df).iloc[:-1])\n",
    "corr_df.to_excel('correlation.xlsx')"
   ]
  },
  {
   "cell_type": "code",
   "execution_count": null,
   "metadata": {},
   "outputs": [],
   "source": []
  }
 ],
 "metadata": {
  "kernelspec": {
   "display_name": "Python 3",
   "language": "python",
   "name": "python3"
  },
  "language_info": {
   "codemirror_mode": {
    "name": "ipython",
    "version": 3
   },
   "file_extension": ".py",
   "mimetype": "text/x-python",
   "name": "python",
   "nbconvert_exporter": "python",
   "pygments_lexer": "ipython3",
   "version": "3.7.9"
  }
 },
 "nbformat": 4,
 "nbformat_minor": 4
}
